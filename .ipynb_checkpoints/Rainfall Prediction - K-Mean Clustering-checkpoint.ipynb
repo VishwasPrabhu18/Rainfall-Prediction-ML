{
 "cells": [
  {
   "cell_type": "code",
   "execution_count": 1,
   "id": "268dbe8a",
   "metadata": {},
   "outputs": [],
   "source": [
    "import warnings\n",
    "warnings.filterwarnings('ignore')"
   ]
  },
  {
   "cell_type": "code",
   "execution_count": 2,
   "id": "509ed922",
   "metadata": {},
   "outputs": [],
   "source": [
    "import pandas as pd\n",
    "import numpy as np\n",
    "import matplotlib.pyplot as plt\n",
    "from sklearn.preprocessing import LabelEncoder, StandardScaler\n",
    "from sklearn.cluster import KMeans\n",
    "from sklearn.decomposition import PCA\n",
    "from sklearn.metrics import silhouette_score"
   ]
  },
  {
   "cell_type": "code",
   "execution_count": 3,
   "id": "c78350fa",
   "metadata": {},
   "outputs": [],
   "source": [
    "# Load the dataset\n",
    "data = pd.read_csv('weatherAUS.csv')"
   ]
  },
  {
   "cell_type": "code",
   "execution_count": 4,
   "id": "f7cbf325",
   "metadata": {},
   "outputs": [],
   "source": [
    "# Drop rows with missing values in the target column ('RainTomorrow')\n",
    "data = data.dropna(subset=['RainTomorrow'])"
   ]
  },
  {
   "cell_type": "code",
   "execution_count": 5,
   "id": "ec7e42de",
   "metadata": {},
   "outputs": [],
   "source": [
    "# Select relevant features\n",
    "features = ['MinTemp', 'MaxTemp', 'Rainfall', 'Evaporation', 'Sunshine', 'WindGustSpeed',\n",
    "            'WindSpeed9am', 'WindSpeed3pm', 'Humidity9am', 'Humidity3pm', 'Pressure9am',\n",
    "            'Pressure3pm', 'Cloud9am', 'Cloud3pm', 'Temp9am', 'Temp3pm']\n"
   ]
  },
  {
   "cell_type": "code",
   "execution_count": 6,
   "id": "834004de",
   "metadata": {},
   "outputs": [],
   "source": [
    "# Handle missing values in numerical columns by filling with mean values\n",
    "data[features] = data[features].fillna(data[features].mean())"
   ]
  },
  {
   "cell_type": "code",
   "execution_count": 7,
   "id": "2d8eb804",
   "metadata": {},
   "outputs": [],
   "source": [
    "# Encode categorical variable 'RainToday'\n",
    "le = LabelEncoder()\n",
    "data['RainToday'] = le.fit_transform(data['RainToday'])"
   ]
  },
  {
   "cell_type": "code",
   "execution_count": 8,
   "id": "15f99770",
   "metadata": {},
   "outputs": [],
   "source": [
    "# Scale the features\n",
    "scaler = StandardScaler()\n",
    "data_scaled = scaler.fit_transform(data[features])"
   ]
  },
  {
   "cell_type": "code",
   "execution_count": 9,
   "id": "9d4f430e",
   "metadata": {},
   "outputs": [],
   "source": [
    "# Apply PCA to reduce dimensionality for visualization\n",
    "pca = PCA(n_components=2)\n",
    "data_pca = pca.fit_transform(data_scaled)"
   ]
  },
  {
   "cell_type": "code",
   "execution_count": null,
   "id": "baa14d42",
   "metadata": {},
   "outputs": [],
   "source": [
    "# Determine the optimal number of clusters using silhouette score\n",
    "max_clusters = 10\n",
    "silhouette_scores = []\n",
    "\n",
    "for k in range(2, max_clusters + 1):\n",
    "    kmeans = KMeans(n_clusters=k, random_state=42)\n",
    "    cluster_labels = kmeans.fit_predict(data_scaled)\n",
    "    silhouette_avg = silhouette_score(data_scaled, cluster_labels)\n",
    "    silhouette_scores.append(silhouette_avg)"
   ]
  },
  {
   "cell_type": "code",
   "execution_count": null,
   "id": "7d0a88b8",
   "metadata": {},
   "outputs": [],
   "source": [
    "optimal_k = np.argmax(silhouette_scores) + 2  # Add 2 because range started from 2"
   ]
  },
  {
   "cell_type": "code",
   "execution_count": null,
   "id": "c242ffc6",
   "metadata": {},
   "outputs": [],
   "source": [
    "# Perform K-Means clustering with optimal number of clusters\n",
    "kmeans = KMeans(n_clusters=optimal_k, random_state=42)\n",
    "cluster_labels = kmeans.fit_predict(data_scaled)"
   ]
  },
  {
   "cell_type": "code",
   "execution_count": null,
   "id": "9ba593a3",
   "metadata": {},
   "outputs": [],
   "source": [
    "# Visualize clusters using PCA components\n",
    "plt.figure(figsize=(10, 8))\n",
    "scatter = plt.scatter(data_pca[:, 0], data_pca[:, 1], c=cluster_labels, cmap='viridis', alpha=0.5)\n",
    "plt.title(f'K-Means Clustering (k={optimal_k})')\n",
    "plt.xlabel('Principal Component 1')\n",
    "plt.ylabel('Principal Component 2')\n",
    "plt.colorbar(scatter, label='Cluster')\n",
    "plt.show()"
   ]
  },
  {
   "cell_type": "code",
   "execution_count": null,
   "id": "0e0b8ac5",
   "metadata": {},
   "outputs": [],
   "source": [
    "# Display cluster centers\n",
    "cluster_centers = pca.inverse_transform(kmeans.cluster_centers_)\n",
    "cluster_centers_df = pd.DataFrame(cluster_centers, columns=features)\n",
    "print(\"\\nCluster Centers:\")\n",
    "print(cluster_centers_df)"
   ]
  },
  {
   "cell_type": "code",
   "execution_count": null,
   "id": "19566851",
   "metadata": {},
   "outputs": [],
   "source": []
  }
 ],
 "metadata": {
  "kernelspec": {
   "display_name": "Python 3 (ipykernel)",
   "language": "python",
   "name": "python3"
  },
  "language_info": {
   "codemirror_mode": {
    "name": "ipython",
    "version": 3
   },
   "file_extension": ".py",
   "mimetype": "text/x-python",
   "name": "python",
   "nbconvert_exporter": "python",
   "pygments_lexer": "ipython3",
   "version": "3.9.12"
  }
 },
 "nbformat": 4,
 "nbformat_minor": 5
}
