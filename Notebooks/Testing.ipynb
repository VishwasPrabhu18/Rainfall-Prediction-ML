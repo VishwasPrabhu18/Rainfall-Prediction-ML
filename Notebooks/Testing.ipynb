{
 "cells": [
  {
   "cell_type": "code",
   "execution_count": 6,
   "id": "44f7223a",
   "metadata": {},
   "outputs": [
    {
     "name": "stdout",
     "output_type": "stream",
     "text": [
      "The predicted class for the input data is: 0\n",
      "The predicted probabilities for each class are: [1. 0.]\n"
     ]
    },
    {
     "name": "stderr",
     "output_type": "stream",
     "text": [
      "C:\\Users\\HP\\anaconda3\\lib\\site-packages\\sklearn\\base.py:450: UserWarning: X does not have valid feature names, but StandardScaler was fitted with feature names\n",
      "  warnings.warn(\n"
     ]
    }
   ],
   "source": [
    "import numpy as np\n",
    "import pickle\n",
    "\n",
    "# Load the saved KNN model\n",
    "with open('knn_model.pkl', 'rb') as file:\n",
    "    knn_loaded = pickle.load(file)\n",
    "\n",
    "# Load the saved StandardScaler\n",
    "with open('scalerKNN.pkl', 'rb') as file:\n",
    "    scaler_loaded = pickle.load(file)\n",
    "\n",
    "# Example input data for prediction\n",
    "input_data = np.array([[25.0, 30.0, 0.0, 5.0, 8.0, 40.0, 20.0, 25.0, 60.0, 40.0, 1010.0, 1005.0, 5.0, 5.0, 20.0, 25.0, 0.0]])\n",
    "\n",
    "# Scale the input data using the loaded scaler\n",
    "input_data_scaled = scaler_loaded.transform(input_data)\n",
    "\n",
    "# Predict using the loaded KNN model\n",
    "predicted_class = knn_loaded.predict(input_data_scaled)[0]\n",
    "predicted_prob = knn_loaded.predict_proba(input_data_scaled)[0]\n",
    "\n",
    "print(f\"The predicted class for the input data is: {predicted_class}\")\n",
    "print(f\"The predicted probabilities for each class are: {predicted_prob}\")\n"
   ]
  },
  {
   "cell_type": "code",
   "execution_count": 7,
   "id": "05045000",
   "metadata": {},
   "outputs": [
    {
     "name": "stdout",
     "output_type": "stream",
     "text": [
      "The predicted class for the input data is: No Rain\n"
     ]
    }
   ],
   "source": [
    "class_labels = ['No Rain', 'Rain']\n",
    "\n",
    "# Predict using the loaded KNN model\n",
    "predicted_class = knn_loaded.predict(input_data_scaled)[0]\n",
    "\n",
    "# Map predicted class to corresponding label\n",
    "predicted_label = class_labels[predicted_class]\n",
    "\n",
    "print(f\"The predicted class for the input data is: {predicted_label}\")"
   ]
  },
  {
   "cell_type": "code",
   "execution_count": 19,
   "id": "0aaa7fc9",
   "metadata": {},
   "outputs": [
    {
     "name": "stdout",
     "output_type": "stream",
     "text": [
      "The predicted class for the input data is: 1\n",
      "The predicted probabilities for each class are: [0.4 0.6]\n"
     ]
    },
    {
     "name": "stderr",
     "output_type": "stream",
     "text": [
      "C:\\Users\\HP\\anaconda3\\lib\\site-packages\\sklearn\\base.py:450: UserWarning: X does not have valid feature names, but StandardScaler was fitted with feature names\n",
      "  warnings.warn(\n"
     ]
    }
   ],
   "source": [
    "input_data = np.array([[10.1, 25.8, 5.8, 5.5, 7.6, 31.0, 0.0, 13.0, 82.0, 68.0, 1017.4, 1014.7, 8.0, 4.5, 19.0, 23.8, 1]])\n",
    "\n",
    "#input_data = np.array([[25.0, 30.0, 0.0, 5.0, 8.0, 40.0, 20.0, 25.0, 60.0, 40.0, 1010.0, 1005.0, 5.0, 5.0, 20.0, 25.0, 0.0]])\n",
    "\n",
    "# Scale the input data using the loaded scaler\n",
    "input_data_scaled = scaler_loaded.transform(input_data)\n",
    "\n",
    "# Predict using the loaded KNN model\n",
    "predicted_class = knn_loaded.predict(input_data_scaled)[0]\n",
    "predicted_prob = knn_loaded.predict_proba(input_data_scaled)[0]\n",
    "\n",
    "print(f\"The predicted class for the input data is: {predicted_class}\")\n",
    "print(f\"The predicted probabilities for each class are: {predicted_prob}\")"
   ]
  },
  {
   "cell_type": "code",
   "execution_count": null,
   "id": "27d3c70a",
   "metadata": {},
   "outputs": [],
   "source": []
  }
 ],
 "metadata": {
  "kernelspec": {
   "display_name": "Python 3 (ipykernel)",
   "language": "python",
   "name": "python3"
  },
  "language_info": {
   "codemirror_mode": {
    "name": "ipython",
    "version": 3
   },
   "file_extension": ".py",
   "mimetype": "text/x-python",
   "name": "python",
   "nbconvert_exporter": "python",
   "pygments_lexer": "ipython3",
   "version": "3.9.12"
  }
 },
 "nbformat": 4,
 "nbformat_minor": 5
}
